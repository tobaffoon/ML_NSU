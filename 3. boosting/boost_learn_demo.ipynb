{
 "cells": [
  {
   "cell_type": "code",
   "execution_count": 4,
   "id": "306ed585",
   "metadata": {
    "id": "306ed585"
   },
   "outputs": [],
   "source": [
    "import pandas as pd\n",
    "import numpy as np\n",
    "import matplotlib.pyplot as plt\n",
    "import itertools\n",
    "from sklearn.ensemble import GradientBoostingClassifier\n",
    "from sklearn.utils import shuffle\n",
    "from sklearn.model_selection import KFold"
   ]
  },
  {
   "cell_type": "code",
   "execution_count": 5,
   "id": "dc2fd454",
   "metadata": {
    "id": "dc2fd454",
    "outputId": "52b40118-c631-4848-eb78-6be6a5e4926f"
   },
   "outputs": [
    {
     "data": {
      "text/html": [
       "<div>\n",
       "<style scoped>\n",
       "    .dataframe tbody tr th:only-of-type {\n",
       "        vertical-align: middle;\n",
       "    }\n",
       "\n",
       "    .dataframe tbody tr th {\n",
       "        vertical-align: top;\n",
       "    }\n",
       "\n",
       "    .dataframe thead th {\n",
       "        text-align: right;\n",
       "    }\n",
       "</style>\n",
       "<table border=\"1\" class=\"dataframe\">\n",
       "  <thead>\n",
       "    <tr style=\"text-align: right;\">\n",
       "      <th></th>\n",
       "      <th>0</th>\n",
       "      <th>1</th>\n",
       "      <th>2</th>\n",
       "      <th>3</th>\n",
       "      <th>4</th>\n",
       "      <th>5</th>\n",
       "      <th>6</th>\n",
       "      <th>7</th>\n",
       "      <th>8</th>\n",
       "      <th>9</th>\n",
       "      <th>10</th>\n",
       "      <th>11</th>\n",
       "      <th>12</th>\n",
       "      <th>13</th>\n",
       "      <th>14</th>\n",
       "    </tr>\n",
       "  </thead>\n",
       "  <tbody>\n",
       "    <tr>\n",
       "      <th>0</th>\n",
       "      <td>39</td>\n",
       "      <td>State-gov</td>\n",
       "      <td>77516</td>\n",
       "      <td>Bachelors</td>\n",
       "      <td>13</td>\n",
       "      <td>Never-married</td>\n",
       "      <td>Adm-clerical</td>\n",
       "      <td>Not-in-family</td>\n",
       "      <td>White</td>\n",
       "      <td>Male</td>\n",
       "      <td>2174</td>\n",
       "      <td>0</td>\n",
       "      <td>40</td>\n",
       "      <td>United-States</td>\n",
       "      <td>&lt;=50K</td>\n",
       "    </tr>\n",
       "    <tr>\n",
       "      <th>1</th>\n",
       "      <td>50</td>\n",
       "      <td>Self-emp-not-inc</td>\n",
       "      <td>83311</td>\n",
       "      <td>Bachelors</td>\n",
       "      <td>13</td>\n",
       "      <td>Married-civ-spouse</td>\n",
       "      <td>Exec-managerial</td>\n",
       "      <td>Husband</td>\n",
       "      <td>White</td>\n",
       "      <td>Male</td>\n",
       "      <td>0</td>\n",
       "      <td>0</td>\n",
       "      <td>13</td>\n",
       "      <td>United-States</td>\n",
       "      <td>&lt;=50K</td>\n",
       "    </tr>\n",
       "    <tr>\n",
       "      <th>2</th>\n",
       "      <td>38</td>\n",
       "      <td>Private</td>\n",
       "      <td>215646</td>\n",
       "      <td>HS-grad</td>\n",
       "      <td>9</td>\n",
       "      <td>Divorced</td>\n",
       "      <td>Handlers-cleaners</td>\n",
       "      <td>Not-in-family</td>\n",
       "      <td>White</td>\n",
       "      <td>Male</td>\n",
       "      <td>0</td>\n",
       "      <td>0</td>\n",
       "      <td>40</td>\n",
       "      <td>United-States</td>\n",
       "      <td>&lt;=50K</td>\n",
       "    </tr>\n",
       "    <tr>\n",
       "      <th>3</th>\n",
       "      <td>53</td>\n",
       "      <td>Private</td>\n",
       "      <td>234721</td>\n",
       "      <td>11th</td>\n",
       "      <td>7</td>\n",
       "      <td>Married-civ-spouse</td>\n",
       "      <td>Handlers-cleaners</td>\n",
       "      <td>Husband</td>\n",
       "      <td>Black</td>\n",
       "      <td>Male</td>\n",
       "      <td>0</td>\n",
       "      <td>0</td>\n",
       "      <td>40</td>\n",
       "      <td>United-States</td>\n",
       "      <td>&lt;=50K</td>\n",
       "    </tr>\n",
       "    <tr>\n",
       "      <th>4</th>\n",
       "      <td>28</td>\n",
       "      <td>Private</td>\n",
       "      <td>338409</td>\n",
       "      <td>Bachelors</td>\n",
       "      <td>13</td>\n",
       "      <td>Married-civ-spouse</td>\n",
       "      <td>Prof-specialty</td>\n",
       "      <td>Wife</td>\n",
       "      <td>Black</td>\n",
       "      <td>Female</td>\n",
       "      <td>0</td>\n",
       "      <td>0</td>\n",
       "      <td>40</td>\n",
       "      <td>Cuba</td>\n",
       "      <td>&lt;=50K</td>\n",
       "    </tr>\n",
       "    <tr>\n",
       "      <th>...</th>\n",
       "      <td>...</td>\n",
       "      <td>...</td>\n",
       "      <td>...</td>\n",
       "      <td>...</td>\n",
       "      <td>...</td>\n",
       "      <td>...</td>\n",
       "      <td>...</td>\n",
       "      <td>...</td>\n",
       "      <td>...</td>\n",
       "      <td>...</td>\n",
       "      <td>...</td>\n",
       "      <td>...</td>\n",
       "      <td>...</td>\n",
       "      <td>...</td>\n",
       "      <td>...</td>\n",
       "    </tr>\n",
       "    <tr>\n",
       "      <th>32556</th>\n",
       "      <td>27</td>\n",
       "      <td>Private</td>\n",
       "      <td>257302</td>\n",
       "      <td>Assoc-acdm</td>\n",
       "      <td>12</td>\n",
       "      <td>Married-civ-spouse</td>\n",
       "      <td>Tech-support</td>\n",
       "      <td>Wife</td>\n",
       "      <td>White</td>\n",
       "      <td>Female</td>\n",
       "      <td>0</td>\n",
       "      <td>0</td>\n",
       "      <td>38</td>\n",
       "      <td>United-States</td>\n",
       "      <td>&lt;=50K</td>\n",
       "    </tr>\n",
       "    <tr>\n",
       "      <th>32557</th>\n",
       "      <td>40</td>\n",
       "      <td>Private</td>\n",
       "      <td>154374</td>\n",
       "      <td>HS-grad</td>\n",
       "      <td>9</td>\n",
       "      <td>Married-civ-spouse</td>\n",
       "      <td>Machine-op-inspct</td>\n",
       "      <td>Husband</td>\n",
       "      <td>White</td>\n",
       "      <td>Male</td>\n",
       "      <td>0</td>\n",
       "      <td>0</td>\n",
       "      <td>40</td>\n",
       "      <td>United-States</td>\n",
       "      <td>&gt;50K</td>\n",
       "    </tr>\n",
       "    <tr>\n",
       "      <th>32558</th>\n",
       "      <td>58</td>\n",
       "      <td>Private</td>\n",
       "      <td>151910</td>\n",
       "      <td>HS-grad</td>\n",
       "      <td>9</td>\n",
       "      <td>Widowed</td>\n",
       "      <td>Adm-clerical</td>\n",
       "      <td>Unmarried</td>\n",
       "      <td>White</td>\n",
       "      <td>Female</td>\n",
       "      <td>0</td>\n",
       "      <td>0</td>\n",
       "      <td>40</td>\n",
       "      <td>United-States</td>\n",
       "      <td>&lt;=50K</td>\n",
       "    </tr>\n",
       "    <tr>\n",
       "      <th>32559</th>\n",
       "      <td>22</td>\n",
       "      <td>Private</td>\n",
       "      <td>201490</td>\n",
       "      <td>HS-grad</td>\n",
       "      <td>9</td>\n",
       "      <td>Never-married</td>\n",
       "      <td>Adm-clerical</td>\n",
       "      <td>Own-child</td>\n",
       "      <td>White</td>\n",
       "      <td>Male</td>\n",
       "      <td>0</td>\n",
       "      <td>0</td>\n",
       "      <td>20</td>\n",
       "      <td>United-States</td>\n",
       "      <td>&lt;=50K</td>\n",
       "    </tr>\n",
       "    <tr>\n",
       "      <th>32560</th>\n",
       "      <td>52</td>\n",
       "      <td>Self-emp-inc</td>\n",
       "      <td>287927</td>\n",
       "      <td>HS-grad</td>\n",
       "      <td>9</td>\n",
       "      <td>Married-civ-spouse</td>\n",
       "      <td>Exec-managerial</td>\n",
       "      <td>Wife</td>\n",
       "      <td>White</td>\n",
       "      <td>Female</td>\n",
       "      <td>15024</td>\n",
       "      <td>0</td>\n",
       "      <td>40</td>\n",
       "      <td>United-States</td>\n",
       "      <td>&gt;50K</td>\n",
       "    </tr>\n",
       "  </tbody>\n",
       "</table>\n",
       "<p>32561 rows × 15 columns</p>\n",
       "</div>"
      ],
      "text/plain": [
       "       0                  1       2            3   4                    5   \\\n",
       "0      39          State-gov   77516    Bachelors  13        Never-married   \n",
       "1      50   Self-emp-not-inc   83311    Bachelors  13   Married-civ-spouse   \n",
       "2      38            Private  215646      HS-grad   9             Divorced   \n",
       "3      53            Private  234721         11th   7   Married-civ-spouse   \n",
       "4      28            Private  338409    Bachelors  13   Married-civ-spouse   \n",
       "...    ..                ...     ...          ...  ..                  ...   \n",
       "32556  27            Private  257302   Assoc-acdm  12   Married-civ-spouse   \n",
       "32557  40            Private  154374      HS-grad   9   Married-civ-spouse   \n",
       "32558  58            Private  151910      HS-grad   9              Widowed   \n",
       "32559  22            Private  201490      HS-grad   9        Never-married   \n",
       "32560  52       Self-emp-inc  287927      HS-grad   9   Married-civ-spouse   \n",
       "\n",
       "                       6               7       8        9      10  11  12  \\\n",
       "0            Adm-clerical   Not-in-family   White     Male   2174   0  40   \n",
       "1         Exec-managerial         Husband   White     Male      0   0  13   \n",
       "2       Handlers-cleaners   Not-in-family   White     Male      0   0  40   \n",
       "3       Handlers-cleaners         Husband   Black     Male      0   0  40   \n",
       "4          Prof-specialty            Wife   Black   Female      0   0  40   \n",
       "...                   ...             ...     ...      ...    ...  ..  ..   \n",
       "32556        Tech-support            Wife   White   Female      0   0  38   \n",
       "32557   Machine-op-inspct         Husband   White     Male      0   0  40   \n",
       "32558        Adm-clerical       Unmarried   White   Female      0   0  40   \n",
       "32559        Adm-clerical       Own-child   White     Male      0   0  20   \n",
       "32560     Exec-managerial            Wife   White   Female  15024   0  40   \n",
       "\n",
       "                   13      14  \n",
       "0       United-States   <=50K  \n",
       "1       United-States   <=50K  \n",
       "2       United-States   <=50K  \n",
       "3       United-States   <=50K  \n",
       "4                Cuba   <=50K  \n",
       "...               ...     ...  \n",
       "32556   United-States   <=50K  \n",
       "32557   United-States    >50K  \n",
       "32558   United-States   <=50K  \n",
       "32559   United-States   <=50K  \n",
       "32560   United-States    >50K  \n",
       "\n",
       "[32561 rows x 15 columns]"
      ]
     },
     "execution_count": 5,
     "metadata": {},
     "output_type": "execute_result"
    }
   ],
   "source": [
    "data = pd.read_csv('https://archive.ics.uci.edu/ml/machine-learning-databases/adult/adult.data',header=None)\n",
    "data"
   ]
  },
  {
   "cell_type": "code",
   "execution_count": 6,
   "id": "18e63eba",
   "metadata": {
    "id": "18e63eba",
    "outputId": "2630d9a4-1b9a-4e68-eb6f-99ef9fe5b23e"
   },
   "outputs": [
    {
     "name": "stdout",
     "output_type": "stream",
     "text": [
      "(32561, 5)\n"
     ]
    },
    {
     "data": {
      "text/html": [
       "<div>\n",
       "<style scoped>\n",
       "    .dataframe tbody tr th:only-of-type {\n",
       "        vertical-align: middle;\n",
       "    }\n",
       "\n",
       "    .dataframe tbody tr th {\n",
       "        vertical-align: top;\n",
       "    }\n",
       "\n",
       "    .dataframe thead th {\n",
       "        text-align: right;\n",
       "    }\n",
       "</style>\n",
       "<table border=\"1\" class=\"dataframe\">\n",
       "  <thead>\n",
       "    <tr style=\"text-align: right;\">\n",
       "      <th></th>\n",
       "      <th>2</th>\n",
       "      <th>4</th>\n",
       "      <th>10</th>\n",
       "      <th>11</th>\n",
       "      <th>12</th>\n",
       "    </tr>\n",
       "  </thead>\n",
       "  <tbody>\n",
       "    <tr>\n",
       "      <th>0</th>\n",
       "      <td>77516</td>\n",
       "      <td>13</td>\n",
       "      <td>2174</td>\n",
       "      <td>0</td>\n",
       "      <td>40</td>\n",
       "    </tr>\n",
       "    <tr>\n",
       "      <th>1</th>\n",
       "      <td>83311</td>\n",
       "      <td>13</td>\n",
       "      <td>0</td>\n",
       "      <td>0</td>\n",
       "      <td>13</td>\n",
       "    </tr>\n",
       "    <tr>\n",
       "      <th>2</th>\n",
       "      <td>215646</td>\n",
       "      <td>9</td>\n",
       "      <td>0</td>\n",
       "      <td>0</td>\n",
       "      <td>40</td>\n",
       "    </tr>\n",
       "    <tr>\n",
       "      <th>3</th>\n",
       "      <td>234721</td>\n",
       "      <td>7</td>\n",
       "      <td>0</td>\n",
       "      <td>0</td>\n",
       "      <td>40</td>\n",
       "    </tr>\n",
       "    <tr>\n",
       "      <th>4</th>\n",
       "      <td>338409</td>\n",
       "      <td>13</td>\n",
       "      <td>0</td>\n",
       "      <td>0</td>\n",
       "      <td>40</td>\n",
       "    </tr>\n",
       "    <tr>\n",
       "      <th>...</th>\n",
       "      <td>...</td>\n",
       "      <td>...</td>\n",
       "      <td>...</td>\n",
       "      <td>...</td>\n",
       "      <td>...</td>\n",
       "    </tr>\n",
       "    <tr>\n",
       "      <th>32556</th>\n",
       "      <td>257302</td>\n",
       "      <td>12</td>\n",
       "      <td>0</td>\n",
       "      <td>0</td>\n",
       "      <td>38</td>\n",
       "    </tr>\n",
       "    <tr>\n",
       "      <th>32557</th>\n",
       "      <td>154374</td>\n",
       "      <td>9</td>\n",
       "      <td>0</td>\n",
       "      <td>0</td>\n",
       "      <td>40</td>\n",
       "    </tr>\n",
       "    <tr>\n",
       "      <th>32558</th>\n",
       "      <td>151910</td>\n",
       "      <td>9</td>\n",
       "      <td>0</td>\n",
       "      <td>0</td>\n",
       "      <td>40</td>\n",
       "    </tr>\n",
       "    <tr>\n",
       "      <th>32559</th>\n",
       "      <td>201490</td>\n",
       "      <td>9</td>\n",
       "      <td>0</td>\n",
       "      <td>0</td>\n",
       "      <td>20</td>\n",
       "    </tr>\n",
       "    <tr>\n",
       "      <th>32560</th>\n",
       "      <td>287927</td>\n",
       "      <td>9</td>\n",
       "      <td>15024</td>\n",
       "      <td>0</td>\n",
       "      <td>40</td>\n",
       "    </tr>\n",
       "  </tbody>\n",
       "</table>\n",
       "<p>32561 rows × 5 columns</p>\n",
       "</div>"
      ],
      "text/plain": [
       "           2   4      10  11  12\n",
       "0       77516  13   2174   0  40\n",
       "1       83311  13      0   0  13\n",
       "2      215646   9      0   0  40\n",
       "3      234721   7      0   0  40\n",
       "4      338409  13      0   0  40\n",
       "...       ...  ..    ...  ..  ..\n",
       "32556  257302  12      0   0  38\n",
       "32557  154374   9      0   0  40\n",
       "32558  151910   9      0   0  40\n",
       "32559  201490   9      0   0  20\n",
       "32560  287927   9  15024   0  40\n",
       "\n",
       "[32561 rows x 5 columns]"
      ]
     },
     "execution_count": 6,
     "metadata": {},
     "output_type": "execute_result"
    }
   ],
   "source": [
    "X = data[[2,4,10,11,12]]\n",
    "y = (data[14]==' >50K').astype(int)\n",
    "print(X.shape)\n",
    "X"
   ]
  },
  {
   "cell_type": "code",
   "execution_count": 8,
   "id": "6c9d59fb",
   "metadata": {
    "id": "6c9d59fb",
    "outputId": "b814755e-92d2-4c6f-f669-bf27d7f819cd"
   },
   "outputs": [
    {
     "data": {
      "text/plain": [
       "14\n",
       "0    24720\n",
       "1     7841\n",
       "Name: count, dtype: int64"
      ]
     },
     "execution_count": 8,
     "metadata": {},
     "output_type": "execute_result"
    }
   ],
   "source": [
    "#data[14][32560]\n",
    "y.value_counts()"
   ]
  },
  {
   "cell_type": "code",
   "execution_count": 9,
   "id": "aff4a4eb",
   "metadata": {
    "id": "aff4a4eb",
    "outputId": "40ed0e72-4b1c-46c4-d3d4-7382585d9049"
   },
   "outputs": [
    {
     "data": {
      "text/plain": [
       "0.7591904425539756"
      ]
     },
     "execution_count": 9,
     "metadata": {},
     "output_type": "execute_result"
    }
   ],
   "source": [
    "1 - y[y==1].count()/y.shape[0]"
   ]
  },
  {
   "cell_type": "code",
   "execution_count": 10,
   "id": "e8d324c6",
   "metadata": {
    "id": "e8d324c6"
   },
   "outputs": [],
   "source": [
    "clf = GradientBoostingClassifier(n_estimators=1000, learning_rate=0.1, max_depth=3, random_state=0\n",
    "                                # ,loss='exponential'\n",
    "                                ).fit(X,y)"
   ]
  },
  {
   "cell_type": "code",
   "execution_count": null,
   "id": "30e0f396",
   "metadata": {
    "id": "30e0f396",
    "outputId": "7fec0051-3bfa-4672-cb72-b6f90117e9f5"
   },
   "outputs": [
    {
     "data": {
      "text/plain": [
       "0.8568840023340807"
      ]
     },
     "execution_count": 10,
     "metadata": {},
     "output_type": "execute_result"
    }
   ],
   "source": [
    "(clf.predict(X)==y).sum()/y.shape[0]"
   ]
  },
  {
   "cell_type": "code",
   "execution_count": null,
   "id": "8984f7bb",
   "metadata": {
    "id": "8984f7bb",
    "outputId": "c3a19d9b-548f-4f62-99e3-f458e8e84d64"
   },
   "outputs": [
    {
     "data": {
      "text/plain": [
       "array([0.75919044, 0.75919044, 0.75919044, 0.80393723, 0.80393723,\n",
       "       0.81047879, 0.81047879, 0.81459415, 0.8149934 , 0.81502411,\n",
       "       0.81502411, 0.81502411, 0.81508553, 0.81944658, 0.82012223,\n",
       "       0.82018366, 0.82024508, 0.82291699, 0.82353122, 0.82568103,\n",
       "       0.82583459, 0.82675594, 0.82687878, 0.82669451, 0.82697092,\n",
       "       0.82890575, 0.82890575, 0.82866005, 0.82866005, 0.82844507,\n",
       "       0.82856792, 0.82939713, 0.83031848, 0.83044133, 0.83034919,\n",
       "       0.83154694, 0.83185406, 0.83188477, 0.83216117, 0.83209975,\n",
       "       0.83237616, 0.83252971, 0.83259114, 0.83271398, 0.83274469,\n",
       "       0.8330211 , 0.83338964, 0.83332821, 0.83332821, 0.8332975 ,\n",
       "       0.83342035, 0.83342035, 0.83366604, 0.83378889, 0.83385031,\n",
       "       0.8338196 , 0.83378889, 0.83378889, 0.834096  , 0.83443383,\n",
       "       0.83449526, 0.8346181 , 0.83507878, 0.83507878, 0.83504806,\n",
       "       0.83535518, 0.83560087, 0.83575443, 0.83569301, 0.83569301,\n",
       "       0.83569301, 0.83578514, 0.83590799, 0.8359387 , 0.8359387 ,\n",
       "       0.83590799, 0.83618439, 0.83627653, 0.83624582, 0.83627653,\n",
       "       0.83630724, 0.83667578, 0.83670649, 0.83667578, 0.83765855,\n",
       "       0.83756641, 0.83759713, 0.83765855, 0.83771997, 0.83765855,\n",
       "       0.83811922, 0.83818065, 0.83818065, 0.83839563, 0.83848776,\n",
       "       0.83851847, 0.83867203, 0.83870274, 0.8388563 , 0.8388563 ,\n",
       "       0.83861061, 0.83861061, 0.83864132, 0.83910199, 0.8391327 ,\n",
       "       0.83916342, 0.83919413, 0.83922484, 0.83928626, 0.83928626,\n",
       "       0.83928626, 0.83934769, 0.8396548 , 0.8396548 , 0.83968551,\n",
       "       0.83971622, 0.83971622, 0.8393784 , 0.83928626, 0.83928626,\n",
       "       0.83925555, 0.83925555, 0.8396548 , 0.83971622, 0.83974694,\n",
       "       0.83974694, 0.83977765, 0.8393784 , 0.83971622, 0.83974694,\n",
       "       0.83971622, 0.83971622, 0.83974694, 0.83990049, 0.84005405,\n",
       "       0.84008476, 0.84020761, 0.8401769 , 0.8401769 , 0.83999263,\n",
       "       0.83999263, 0.84002334, 0.84005405, 0.84020761, 0.84014619,\n",
       "       0.84023832, 0.84023832, 0.84023832, 0.84036117, 0.84039188,\n",
       "       0.84029975, 0.84026903, 0.84029975, 0.84036117, 0.84042259,\n",
       "       0.84051473, 0.84063757, 0.84063757, 0.84066828, 0.84063757,\n",
       "       0.840699  , 0.84066828, 0.84072971, 0.84072971, 0.84072971,\n",
       "       0.84082184, 0.84088327, 0.84091398, 0.84091398, 0.84091398,\n",
       "       0.84091398, 0.8409754 , 0.84085255, 0.84085255, 0.84085255,\n",
       "       0.84085255, 0.84091398, 0.84091398, 0.84091398, 0.84091398,\n",
       "       0.84091398, 0.84100611, 0.8409754 , 0.84094469, 0.84094469,\n",
       "       0.84088327, 0.84094469, 0.8409754 , 0.84094469, 0.84094469,\n",
       "       0.8409754 , 0.84109825, 0.84109825, 0.84112896, 0.84115967,\n",
       "       0.8412518 , 0.84128252, 0.84143607, 0.84143607, 0.8414975 ,\n",
       "       0.8414975 , 0.84165105, 0.84171248, 0.84168177, 0.84168177,\n",
       "       0.84168177, 0.84168177, 0.84171248, 0.84171248, 0.8417739 ,\n",
       "       0.8417739 , 0.8417739 , 0.84186604, 0.84186604, 0.84183532,\n",
       "       0.84189675, 0.84189675, 0.84189675, 0.84192746, 0.84192746,\n",
       "       0.84205031, 0.84205031, 0.84211173, 0.84211173, 0.84205031,\n",
       "       0.84208102, 0.84208102, 0.84208102, 0.84214244, 0.84220386,\n",
       "       0.84220386, 0.84214244, 0.84220386, 0.84223458, 0.84226529,\n",
       "       0.84226529, 0.84226529, 0.84226529, 0.842296  , 0.84235742,\n",
       "       0.84238813, 0.84232671, 0.842296  , 0.84232671, 0.842296  ,\n",
       "       0.842296  , 0.842296  , 0.842296  , 0.84232671, 0.84248027,\n",
       "       0.84251098, 0.84254169, 0.84254169, 0.84254169, 0.84254169,\n",
       "       0.84263383, 0.84254169, 0.84254169, 0.8425724 , 0.8425724 ,\n",
       "       0.84266454, 0.84269525, 0.84266454, 0.8425724 , 0.8425724 ,\n",
       "       0.8425724 , 0.84263383, 0.84266454, 0.84278738, 0.84303308,\n",
       "       0.84303308, 0.84306379, 0.8430945 , 0.8430945 , 0.84303308,\n",
       "       0.84303308, 0.8430945 , 0.84312521, 0.84312521, 0.8430945 ,\n",
       "       0.8430945 , 0.8430945 , 0.8430945 , 0.84315592, 0.84318663,\n",
       "       0.84324806, 0.84327877, 0.84334019, 0.84334019, 0.8433709 ,\n",
       "       0.84340162, 0.84340162, 0.84343233, 0.84346304, 0.84346304,\n",
       "       0.84358588, 0.8436166 , 0.84358588, 0.8436166 , 0.84364731,\n",
       "       0.84364731, 0.84370873, 0.84386229, 0.84386229, 0.843893  ,\n",
       "       0.84392371, 0.84392371, 0.84395442, 0.84395442, 0.84395442,\n",
       "       0.84395442, 0.84398514, 0.84398514, 0.84398514, 0.84401585,\n",
       "       0.84407727, 0.84426154, 0.84423083, 0.84429225, 0.84429225,\n",
       "       0.84429225, 0.84435367, 0.8444151 , 0.84444581, 0.84447652,\n",
       "       0.84447652, 0.84450723, 0.84450723, 0.84459937, 0.84456866,\n",
       "       0.84459937, 0.84459937, 0.84459937, 0.84459937, 0.84463008,\n",
       "       0.84472221, 0.84472221, 0.84472221, 0.84472221, 0.84475293,\n",
       "       0.84484506, 0.84490648, 0.84493719, 0.84496791, 0.84490648,\n",
       "       0.84493719, 0.84496791, 0.84496791, 0.84512146, 0.84518289,\n",
       "       0.84515218, 0.8452136 , 0.84530573, 0.84530573, 0.84530573,\n",
       "       0.84530573, 0.84533645, 0.84539787, 0.84539787, 0.84542858,\n",
       "       0.84542858, 0.84545929, 0.84552071, 0.84545929, 0.84552071,\n",
       "       0.84561285, 0.84570498, 0.84570498, 0.84576641, 0.84582783,\n",
       "       0.84588925, 0.84591997, 0.84591997, 0.84591997, 0.84591997,\n",
       "       0.84591997, 0.84591997, 0.84579712, 0.84582783, 0.84579712,\n",
       "       0.84579712, 0.84570498, 0.84570498, 0.84570498, 0.84570498,\n",
       "       0.84570498, 0.8457357 , 0.84579712, 0.84585854, 0.84585854,\n",
       "       0.84588925, 0.84591997, 0.84591997, 0.84598139, 0.84598139,\n",
       "       0.84598139, 0.84598139, 0.84598139, 0.8460121 , 0.8460121 ,\n",
       "       0.84607352, 0.84610424, 0.84613495, 0.84613495, 0.84613495,\n",
       "       0.84616566, 0.84625779, 0.84622708, 0.84625779, 0.84622708,\n",
       "       0.84622708, 0.8462885 , 0.84634993, 0.84634993, 0.84638064,\n",
       "       0.84650349, 0.84662633, 0.84662633, 0.84668776, 0.84665704,\n",
       "       0.84662633, 0.84662633, 0.84662633, 0.84659562, 0.84659562,\n",
       "       0.84662633, 0.84662633, 0.84668776, 0.84668776, 0.84668776,\n",
       "       0.84668776, 0.84684131, 0.8468106 , 0.84674918, 0.84677989,\n",
       "       0.84674918, 0.84674918, 0.84674918, 0.8468106 , 0.8468106 ,\n",
       "       0.84671847, 0.8468106 , 0.8468106 , 0.84687202, 0.84684131,\n",
       "       0.84687202, 0.84693345, 0.84693345, 0.84696416, 0.84714843,\n",
       "       0.84717914, 0.84717914, 0.84714843, 0.84711772, 0.84717914,\n",
       "       0.84717914, 0.84720985, 0.84724056, 0.84724056, 0.84727128,\n",
       "       0.84727128, 0.84724056, 0.84736341, 0.84736341, 0.84739412,\n",
       "       0.84742483, 0.84742483, 0.8473327 , 0.84727128, 0.84730199,\n",
       "       0.84730199, 0.8473327 , 0.8473327 , 0.8473327 , 0.8473327 ,\n",
       "       0.8473327 , 0.8473327 , 0.84739412, 0.84739412, 0.84736341,\n",
       "       0.84745554, 0.84745554, 0.84748626, 0.84748626, 0.84754768,\n",
       "       0.84754768, 0.84754768, 0.84754768, 0.84754768, 0.84751697,\n",
       "       0.84754768, 0.84757839, 0.84757839, 0.84757839, 0.84757839,\n",
       "       0.8476091 , 0.8476091 , 0.8476091 , 0.84757839, 0.84757839,\n",
       "       0.84763981, 0.84770124, 0.84770124, 0.84779337, 0.8478548 ,\n",
       "       0.84788551, 0.84797764, 0.84806978, 0.84803907, 0.84810049,\n",
       "       0.84810049, 0.84806978, 0.84803907, 0.84800835, 0.84810049,\n",
       "       0.84819262, 0.84822333, 0.84822333, 0.84822333, 0.84828476,\n",
       "       0.84834618, 0.8484076 , 0.84834618, 0.84834618, 0.84837689,\n",
       "       0.84837689, 0.84843832, 0.84843832, 0.84849974, 0.8484076 ,\n",
       "       0.84846903, 0.84843832, 0.84862259, 0.84868401, 0.84871472,\n",
       "       0.84868401, 0.84868401, 0.8486533 , 0.84868401, 0.84868401,\n",
       "       0.84868401, 0.84871472, 0.84871472, 0.84871472, 0.84874543,\n",
       "       0.84871472, 0.84868401, 0.84868401, 0.84874543, 0.84871472,\n",
       "       0.84877614, 0.84877614, 0.84880685, 0.84883757, 0.84883757,\n",
       "       0.8489297 , 0.84908326, 0.84908326, 0.84923682, 0.84926753,\n",
       "       0.84935966, 0.84932895, 0.84932895, 0.84935966, 0.84935966,\n",
       "       0.8494518 , 0.84935966, 0.84942109, 0.84942109, 0.84942109,\n",
       "       0.84942109, 0.84942109, 0.8494518 , 0.8494518 , 0.84951322,\n",
       "       0.84954393, 0.84948251, 0.84966678, 0.8497282 , 0.8497282 ,\n",
       "       0.8497282 , 0.84975891, 0.84982034, 0.84982034, 0.84982034,\n",
       "       0.84985105, 0.84985105, 0.8499739 , 0.84994318, 0.84991247,\n",
       "       0.84994318, 0.84991247, 0.84991247, 0.85012745, 0.85012745,\n",
       "       0.85018888, 0.85018888, 0.85018888, 0.85021959, 0.85021959,\n",
       "       0.8502503 , 0.8502503 , 0.85021959, 0.85021959, 0.85021959,\n",
       "       0.85021959, 0.85021959, 0.85018888, 0.85021959, 0.85021959,\n",
       "       0.8502503 , 0.85028101, 0.8502503 , 0.85028101, 0.85028101,\n",
       "       0.8502503 , 0.8502503 , 0.85031172, 0.85031172, 0.85040386,\n",
       "       0.85040386, 0.85043457, 0.85049599, 0.85049599, 0.85049599,\n",
       "       0.8505267 , 0.85064955, 0.85071097, 0.85071097, 0.8507724 ,\n",
       "       0.85074168, 0.85074168, 0.85083382, 0.85083382, 0.85086453,\n",
       "       0.85086453, 0.85089524, 0.85089524, 0.85089524, 0.85089524,\n",
       "       0.85089524, 0.85092595, 0.85092595, 0.85092595, 0.85092595,\n",
       "       0.85089524, 0.85092595, 0.85092595, 0.85092595, 0.85095667,\n",
       "       0.85098738, 0.85098738, 0.85111022, 0.85117165, 0.85117165,\n",
       "       0.85117165, 0.85120236, 0.85120236, 0.85120236, 0.85123307,\n",
       "       0.85129449, 0.85126378, 0.85126378, 0.85126378, 0.85129449,\n",
       "       0.85129449, 0.85129449, 0.8513252 , 0.8513252 , 0.8513252 ,\n",
       "       0.8513252 , 0.8513252 , 0.8513252 , 0.85141734, 0.85141734,\n",
       "       0.85141734, 0.85147876, 0.8515709 , 0.85160161, 0.85160161,\n",
       "       0.85160161, 0.85160161, 0.8515709 , 0.85163232, 0.85163232,\n",
       "       0.85166303, 0.85166303, 0.85169374, 0.85169374, 0.85175517,\n",
       "       0.85178588, 0.8518473 , 0.85187801, 0.8518473 , 0.8518473 ,\n",
       "       0.8518473 , 0.8518473 , 0.8518473 , 0.85187801, 0.85187801,\n",
       "       0.85187801, 0.85190873, 0.85190873, 0.85197015, 0.85200086,\n",
       "       0.85206228, 0.85206228, 0.85206228, 0.85212371, 0.85215442,\n",
       "       0.85218513, 0.85218513, 0.85218513, 0.85218513, 0.85221584,\n",
       "       0.85221584, 0.85221584, 0.85224655, 0.85224655, 0.85230798,\n",
       "       0.85230798, 0.8523694 , 0.85233869, 0.85233869, 0.85233869,\n",
       "       0.85233869, 0.85230798, 0.85233869, 0.8523694 , 0.8523694 ,\n",
       "       0.8523694 , 0.85233869, 0.85240011, 0.85246153, 0.85246153,\n",
       "       0.85255367, 0.85255367, 0.85252296, 0.85249225, 0.85249225,\n",
       "       0.85246153, 0.85246153, 0.85252296, 0.85255367, 0.85252296,\n",
       "       0.8526458 , 0.85276865, 0.85273794, 0.85276865, 0.85276865,\n",
       "       0.85276865, 0.85276865, 0.85279936, 0.85276865, 0.85283007,\n",
       "       0.85286078, 0.85301434, 0.85301434, 0.85304505, 0.85307577,\n",
       "       0.85310648, 0.85310648, 0.85322932, 0.85319861, 0.85319861,\n",
       "       0.85319861, 0.85322932, 0.85326004, 0.85326004, 0.85329075,\n",
       "       0.85329075, 0.85329075, 0.85332146, 0.85322932, 0.85326004,\n",
       "       0.85326004, 0.85329075, 0.85329075, 0.85322932, 0.85322932,\n",
       "       0.85319861, 0.85319861, 0.85319861, 0.85319861, 0.85319861,\n",
       "       0.85322932, 0.85322932, 0.85326004, 0.85326004, 0.85326004,\n",
       "       0.85326004, 0.85329075, 0.85332146, 0.85332146, 0.85341359,\n",
       "       0.85341359, 0.85350573, 0.85350573, 0.85350573, 0.85353644,\n",
       "       0.85353644, 0.85353644, 0.85353644, 0.85362857, 0.85362857,\n",
       "       0.85362857, 0.85362857, 0.85362857, 0.85369   , 0.85369   ,\n",
       "       0.85365929, 0.85365929, 0.85369   , 0.85375142, 0.85378213,\n",
       "       0.85378213, 0.85378213, 0.85378213, 0.85378213, 0.85384356,\n",
       "       0.85393569, 0.85393569, 0.85393569, 0.85399711, 0.85402782,\n",
       "       0.85402782, 0.85402782, 0.85402782, 0.85402782, 0.85390498,\n",
       "       0.85390498, 0.85393569, 0.8539664 , 0.85402782, 0.85408925,\n",
       "       0.85411996, 0.85408925, 0.85408925, 0.85405854, 0.85415067,\n",
       "       0.85418138, 0.85418138, 0.85418138, 0.85427352, 0.85418138,\n",
       "       0.85436565, 0.85442708, 0.85439636, 0.85439636, 0.85442708,\n",
       "       0.85439636, 0.85442708, 0.85442708, 0.85445779, 0.85445779,\n",
       "       0.85445779, 0.85445779, 0.85445779, 0.85445779, 0.85436565,\n",
       "       0.85436565, 0.85436565, 0.85436565, 0.85436565, 0.85442708,\n",
       "       0.8544885 , 0.85451921, 0.85451921, 0.85454992, 0.85454992,\n",
       "       0.85461134, 0.85461134, 0.85461134, 0.85461134, 0.85464206,\n",
       "       0.85467277, 0.85464206, 0.85464206, 0.85470348, 0.85470348,\n",
       "       0.85473419, 0.85473419, 0.8547649 , 0.85479561, 0.85473419,\n",
       "       0.85479561, 0.85482633, 0.85479561, 0.85479561, 0.85482633,\n",
       "       0.85479561, 0.85479561, 0.85473419, 0.8547649 , 0.8547649 ,\n",
       "       0.85482633, 0.85504131, 0.85504131, 0.85507202, 0.85507202,\n",
       "       0.85516415, 0.85516415, 0.85516415, 0.85525629, 0.85525629,\n",
       "       0.85547127, 0.85547127, 0.85553269, 0.85550198, 0.85550198,\n",
       "       0.85553269, 0.8555634 , 0.85559412, 0.85559412, 0.85562483,\n",
       "       0.85559412, 0.85562483, 0.85568625, 0.85571696, 0.85571696,\n",
       "       0.85571696, 0.85568625, 0.85568625, 0.85568625, 0.85571696,\n",
       "       0.85571696, 0.85574767, 0.85574767, 0.85571696, 0.85574767,\n",
       "       0.85574767, 0.85574767, 0.85577839, 0.85574767, 0.85577839,\n",
       "       0.85577839, 0.8558091 , 0.8558091 , 0.85590123, 0.85590123,\n",
       "       0.85590123, 0.85590123, 0.85593194, 0.85593194, 0.85593194,\n",
       "       0.85593194, 0.85596265, 0.85596265, 0.85596265, 0.85596265,\n",
       "       0.85596265, 0.85599337, 0.85605479, 0.85605479, 0.85605479,\n",
       "       0.85605479, 0.8560855 , 0.8560855 , 0.85611621, 0.85620835,\n",
       "       0.85617764, 0.85620835, 0.85623906, 0.85633119, 0.85633119,\n",
       "       0.85626977, 0.85639262, 0.85636191, 0.85636191, 0.85636191,\n",
       "       0.85639262, 0.85639262, 0.85639262, 0.85636191, 0.85636191,\n",
       "       0.85648475, 0.85657689, 0.85654617, 0.85657689, 0.85657689,\n",
       "       0.85651546, 0.85657689, 0.8566076 , 0.85666902, 0.85666902,\n",
       "       0.85663831, 0.85666902, 0.85663831, 0.85663831, 0.85657689,\n",
       "       0.85663831, 0.8566076 , 0.85669973, 0.85679187, 0.85679187,\n",
       "       0.85679187, 0.85682258, 0.85685329, 0.85685329, 0.856884  ])"
      ]
     },
     "execution_count": 12,
     "metadata": {},
     "output_type": "execute_result"
    }
   ],
   "source": [
    "q = np.array([(p==y).sum()/y.shape[0] for p in clf.staged_predict(X)])\n",
    "q"
   ]
  },
  {
   "cell_type": "code",
   "execution_count": null,
   "id": "43bb68f7",
   "metadata": {
    "id": "43bb68f7",
    "outputId": "7c7e0fbe-3ae2-4bea-e022-5293240c3994"
   },
   "outputs": [
    {
     "data": {
      "text/plain": [
       "[<matplotlib.lines.Line2D at 0x1c4d2d9fdc0>]"
      ]
     },
     "execution_count": 13,
     "metadata": {},
     "output_type": "execute_result"
    },
    {
     "data": {
      "image/png": "[encoded data removed]",
      "text/plain": [
       "<Figure size 864x432 with 1 Axes>"
      ]
     },
     "metadata": {
      "needs_background": "light"
     },
     "output_type": "display_data"
    }
   ],
   "source": [
    "plt.figure(figsize=(12,6))\n",
    "plt.plot(q)"
   ]
  },
  {
   "cell_type": "code",
   "execution_count": null,
   "id": "a848e8f5",
   "metadata": {
    "id": "a848e8f5",
    "outputId": "60a29f3f-eb97-43aa-e34b-0dd9af64687f"
   },
   "outputs": [
    {
     "data": {
      "text/plain": [
       "array([[0.75510517, 0.75510517, 0.75510517, ..., 0.83555965, 0.83555965,\n",
       "        0.83555965],\n",
       "       [0.76090295, 0.76090295, 0.76090295, ..., 0.8392199 , 0.8392199 ,\n",
       "        0.8392199 ],\n",
       "       [0.75383907, 0.75383907, 0.75383907, ..., 0.83353808, 0.83353808,\n",
       "        0.83353808],\n",
       "       [0.75967445, 0.75967445, 0.75967445, ..., 0.83829853, 0.83829853,\n",
       "        0.83829853],\n",
       "       [0.7664312 , 0.7664312 , 0.7664312 , ..., 0.83753071, 0.83768428,\n",
       "        0.83768428]])"
      ]
     },
     "execution_count": 28,
     "metadata": {},
     "output_type": "execute_result"
    }
   ],
   "source": [
    "def crossval(X,y,model,n_splits):\n",
    "    kf = KFold(n_splits)\n",
    "    q_cv = np.zeros(X.shape[0])\n",
    "    scor = []\n",
    "    for train, test in kf.split(X):\n",
    "        #print(\"%s %s\" % (train, test))\n",
    "        X_train, X_test, y_train, y_test = X.iloc[train], X.iloc[test], y.iloc[train], y.iloc[test]\n",
    "        clf = model.fit(X_train,y_train)\n",
    "        q = np.array([(p==y_test).sum()/y_test.shape[0] for p in clf.staged_predict(X_test)])\n",
    "        scor.append(q)\n",
    "    return np.array(scor)\n",
    "\n",
    "model = GradientBoostingClassifier(n_estimators=1000, learning_rate=0.1, max_depth=3, random_state=0)\n",
    "q_cv = crossval(X,y,model,5)\n",
    "q_cv"
   ]
  },
  {
   "cell_type": "code",
   "execution_count": null,
   "id": "3da04c90",
   "metadata": {
    "id": "3da04c90",
    "outputId": "e513ceac-bbd7-4448-bb2b-106e5359a1b8"
   },
   "outputs": [
    {
     "data": {
      "text/plain": [
       "[<matplotlib.lines.Line2D at 0x17135d6b460>]"
      ]
     },
     "execution_count": 32,
     "metadata": {},
     "output_type": "execute_result"
    },
    {
     "data": {
      "image/png": "[encoded data removed]",
      "text/plain": [
       "<Figure size 864x432 with 1 Axes>"
      ]
     },
     "metadata": {
      "needs_background": "light"
     },
     "output_type": "display_data"
    }
   ],
   "source": [
    "plt.figure(figsize=(12,6))\n",
    "plt.plot(q)\n",
    "plt.plot(q_cv.mean(axis=0))"
   ]
  },
  {
   "cell_type": "code",
   "execution_count": null,
   "id": "25b94ec6",
   "metadata": {
    "id": "25b94ec6",
    "outputId": "0803e9fb-d105-471d-c2ce-a808fc9968f6"
   },
   "outputs": [
    {
     "data": {
      "text/html": [
       "<div>\n",
       "<style scoped>\n",
       "    .dataframe tbody tr th:only-of-type {\n",
       "        vertical-align: middle;\n",
       "    }\n",
       "\n",
       "    .dataframe tbody tr th {\n",
       "        vertical-align: top;\n",
       "    }\n",
       "\n",
       "    .dataframe thead th {\n",
       "        text-align: right;\n",
       "    }\n",
       "</style>\n",
       "<table border=\"1\" class=\"dataframe\">\n",
       "  <thead>\n",
       "    <tr style=\"text-align: right;\">\n",
       "      <th></th>\n",
       "      <th>X1</th>\n",
       "      <th>X2</th>\n",
       "      <th>Y</th>\n",
       "    </tr>\n",
       "  </thead>\n",
       "  <tbody>\n",
       "    <tr>\n",
       "      <th>0</th>\n",
       "      <td>-1.000000</td>\n",
       "      <td>-1.0</td>\n",
       "      <td>0</td>\n",
       "    </tr>\n",
       "    <tr>\n",
       "      <th>1</th>\n",
       "      <td>-0.916667</td>\n",
       "      <td>-1.0</td>\n",
       "      <td>0</td>\n",
       "    </tr>\n",
       "    <tr>\n",
       "      <th>2</th>\n",
       "      <td>-0.833333</td>\n",
       "      <td>-1.0</td>\n",
       "      <td>0</td>\n",
       "    </tr>\n",
       "    <tr>\n",
       "      <th>3</th>\n",
       "      <td>-0.750000</td>\n",
       "      <td>-1.0</td>\n",
       "      <td>0</td>\n",
       "    </tr>\n",
       "    <tr>\n",
       "      <th>4</th>\n",
       "      <td>-0.666667</td>\n",
       "      <td>-1.0</td>\n",
       "      <td>0</td>\n",
       "    </tr>\n",
       "    <tr>\n",
       "      <th>...</th>\n",
       "      <td>...</td>\n",
       "      <td>...</td>\n",
       "      <td>...</td>\n",
       "    </tr>\n",
       "    <tr>\n",
       "      <th>1245</th>\n",
       "      <td>0.666667</td>\n",
       "      <td>1.0</td>\n",
       "      <td>1</td>\n",
       "    </tr>\n",
       "    <tr>\n",
       "      <th>1246</th>\n",
       "      <td>0.750000</td>\n",
       "      <td>1.0</td>\n",
       "      <td>1</td>\n",
       "    </tr>\n",
       "    <tr>\n",
       "      <th>1247</th>\n",
       "      <td>0.833333</td>\n",
       "      <td>1.0</td>\n",
       "      <td>1</td>\n",
       "    </tr>\n",
       "    <tr>\n",
       "      <th>1248</th>\n",
       "      <td>0.916667</td>\n",
       "      <td>1.0</td>\n",
       "      <td>1</td>\n",
       "    </tr>\n",
       "    <tr>\n",
       "      <th>1249</th>\n",
       "      <td>1.000000</td>\n",
       "      <td>1.0</td>\n",
       "      <td>1</td>\n",
       "    </tr>\n",
       "  </tbody>\n",
       "</table>\n",
       "<p>1250 rows × 3 columns</p>\n",
       "</div>"
      ],
      "text/plain": [
       "            X1   X2  Y\n",
       "0    -1.000000 -1.0  0\n",
       "1    -0.916667 -1.0  0\n",
       "2    -0.833333 -1.0  0\n",
       "3    -0.750000 -1.0  0\n",
       "4    -0.666667 -1.0  0\n",
       "...        ...  ... ..\n",
       "1245  0.666667  1.0  1\n",
       "1246  0.750000  1.0  1\n",
       "1247  0.833333  1.0  1\n",
       "1248  0.916667  1.0  1\n",
       "1249  1.000000  1.0  1\n",
       "\n",
       "[1250 rows x 3 columns]"
      ]
     },
     "execution_count": 40,
     "metadata": {},
     "output_type": "execute_result"
    }
   ],
   "source": [
    "def make_grid_sample(d = 1, N = 25):\n",
    "    xx, yy = np.meshgrid(np.linspace(-d, d, N),\n",
    "                         np.linspace(-d, d, N))\n",
    "    z =  np.vstack([xx.ravel(), yy.ravel()]).T\n",
    "    r = pd.DataFrame(np.vstack([z, z]),columns=['X1','X2'])\n",
    "    r['Y'] = (2*r.index>=r.shape[0]).astype(int)\n",
    "    return r\n",
    "                         \n",
    "df = make_grid_sample()                         \n",
    "df"
   ]
  },
  {
   "cell_type": "code",
   "execution_count": null,
   "id": "f285ccfb",
   "metadata": {
    "id": "f285ccfb",
    "outputId": "cc016fbc-019e-4776-8e64-3452c74250fb"
   },
   "outputs": [
    {
     "data": {
      "text/plain": [
       "0    961\n",
       "1    961\n",
       "Name: Y, dtype: int64"
      ]
     },
     "execution_count": 12,
     "metadata": {},
     "output_type": "execute_result"
    }
   ],
   "source": [
    "df['Y'].value_counts()"
   ]
  },
  {
   "cell_type": "code",
   "execution_count": null,
   "id": "16f7176d",
   "metadata": {
    "id": "16f7176d",
    "outputId": "3cdeb0f2-445c-4fce-d139-3008baf13666"
   },
   "outputs": [
    {
     "data": {
      "text/plain": [
       "0    744\n",
       "1    506\n",
       "Name: area, dtype: int64"
      ]
     },
     "execution_count": 91,
     "metadata": {},
     "output_type": "execute_result"
    }
   ],
   "source": [
    "df['area'] = (df['X1']*df['X1'] - df['X1']*df['X2'] + df['X2']*df['X2'] < 0.7**2).astype(int)\n",
    "#df['area'] = (df['X1']*df['X1'] + df['X2']*df['X2'] < 0.7**2).astype(int)\n",
    "df['weight'] = (df['Y']==df['area']).map(lambda x: 0.9 if x else 0.1)\n",
    "df['area'].value_counts()"
   ]
  },
  {
   "cell_type": "code",
   "execution_count": null,
   "id": "28581108",
   "metadata": {
    "id": "28581108",
    "outputId": "81322b73-990e-42ff-f8bc-8a51df44b50d",
    "scrolled": true
   },
   "outputs": [
    {
     "data": {
      "text/html": [
       "<div>\n",
       "<style scoped>\n",
       "    .dataframe tbody tr th:only-of-type {\n",
       "        vertical-align: middle;\n",
       "    }\n",
       "\n",
       "    .dataframe tbody tr th {\n",
       "        vertical-align: top;\n",
       "    }\n",
       "\n",
       "    .dataframe thead th {\n",
       "        text-align: right;\n",
       "    }\n",
       "</style>\n",
       "<table border=\"1\" class=\"dataframe\">\n",
       "  <thead>\n",
       "    <tr style=\"text-align: right;\">\n",
       "      <th></th>\n",
       "      <th>X1</th>\n",
       "      <th>X2</th>\n",
       "      <th>Y</th>\n",
       "      <th>area</th>\n",
       "      <th>weight</th>\n",
       "    </tr>\n",
       "  </thead>\n",
       "  <tbody>\n",
       "    <tr>\n",
       "      <th>0</th>\n",
       "      <td>-1.0</td>\n",
       "      <td>-1.0</td>\n",
       "      <td>0</td>\n",
       "      <td>0</td>\n",
       "      <td>0.9</td>\n",
       "    </tr>\n",
       "    <tr>\n",
       "      <th>1</th>\n",
       "      <td>-0.9</td>\n",
       "      <td>-1.0</td>\n",
       "      <td>0</td>\n",
       "      <td>0</td>\n",
       "      <td>0.9</td>\n",
       "    </tr>\n",
       "    <tr>\n",
       "      <th>2</th>\n",
       "      <td>-0.8</td>\n",
       "      <td>-1.0</td>\n",
       "      <td>0</td>\n",
       "      <td>0</td>\n",
       "      <td>0.9</td>\n",
       "    </tr>\n",
       "    <tr>\n",
       "      <th>3</th>\n",
       "      <td>-0.7</td>\n",
       "      <td>-1.0</td>\n",
       "      <td>0</td>\n",
       "      <td>0</td>\n",
       "      <td>0.9</td>\n",
       "    </tr>\n",
       "    <tr>\n",
       "      <th>4</th>\n",
       "      <td>-0.6</td>\n",
       "      <td>-1.0</td>\n",
       "      <td>0</td>\n",
       "      <td>0</td>\n",
       "      <td>0.9</td>\n",
       "    </tr>\n",
       "    <tr>\n",
       "      <th>...</th>\n",
       "      <td>...</td>\n",
       "      <td>...</td>\n",
       "      <td>...</td>\n",
       "      <td>...</td>\n",
       "      <td>...</td>\n",
       "    </tr>\n",
       "    <tr>\n",
       "      <th>877</th>\n",
       "      <td>0.6</td>\n",
       "      <td>1.0</td>\n",
       "      <td>1</td>\n",
       "      <td>0</td>\n",
       "      <td>0.1</td>\n",
       "    </tr>\n",
       "    <tr>\n",
       "      <th>878</th>\n",
       "      <td>0.7</td>\n",
       "      <td>1.0</td>\n",
       "      <td>1</td>\n",
       "      <td>0</td>\n",
       "      <td>0.1</td>\n",
       "    </tr>\n",
       "    <tr>\n",
       "      <th>879</th>\n",
       "      <td>0.8</td>\n",
       "      <td>1.0</td>\n",
       "      <td>1</td>\n",
       "      <td>0</td>\n",
       "      <td>0.1</td>\n",
       "    </tr>\n",
       "    <tr>\n",
       "      <th>880</th>\n",
       "      <td>0.9</td>\n",
       "      <td>1.0</td>\n",
       "      <td>1</td>\n",
       "      <td>0</td>\n",
       "      <td>0.1</td>\n",
       "    </tr>\n",
       "    <tr>\n",
       "      <th>881</th>\n",
       "      <td>1.0</td>\n",
       "      <td>1.0</td>\n",
       "      <td>1</td>\n",
       "      <td>0</td>\n",
       "      <td>0.1</td>\n",
       "    </tr>\n",
       "  </tbody>\n",
       "</table>\n",
       "<p>882 rows × 5 columns</p>\n",
       "</div>"
      ],
      "text/plain": [
       "      X1   X2  Y  area  weight\n",
       "0   -1.0 -1.0  0     0     0.9\n",
       "1   -0.9 -1.0  0     0     0.9\n",
       "2   -0.8 -1.0  0     0     0.9\n",
       "3   -0.7 -1.0  0     0     0.9\n",
       "4   -0.6 -1.0  0     0     0.9\n",
       "..   ...  ... ..   ...     ...\n",
       "877  0.6  1.0  1     0     0.1\n",
       "878  0.7  1.0  1     0     0.1\n",
       "879  0.8  1.0  1     0     0.1\n",
       "880  0.9  1.0  1     0     0.1\n",
       "881  1.0  1.0  1     0     0.1\n",
       "\n",
       "[882 rows x 5 columns]"
      ]
     },
     "execution_count": 30,
     "metadata": {},
     "output_type": "execute_result"
    }
   ],
   "source": [
    "df"
   ]
  },
  {
   "cell_type": "code",
   "execution_count": null,
   "id": "25bfe136",
   "metadata": {
    "id": "25bfe136",
    "outputId": "70cae3fc-f0c6-4c04-f842-caafacee02f2"
   },
   "outputs": [
    {
     "data": {
      "image/png": "[encoded data removed]",
      "text/plain": [
       "<Figure size 1080x504 with 2 Axes>"
      ]
     },
     "metadata": {
      "needs_background": "light"
     },
     "output_type": "display_data"
    }
   ],
   "source": [
    "def plot_sample(ax,df,s1=70,s2=10):\n",
    "    df.loc[(df['Y']==0)&(df['area']==0)].plot.scatter(x='X1', y='X2',ax=ax,c='b',s=s1+10)\n",
    "    df.loc[(df['Y']==0)&(df['area']==0)].plot.scatter(x='X1', y='X2',ax=ax,c='b',s=s1)\n",
    "    df.loc[(df['Y']==1)&(df['area']==1)].plot.scatter(x='X1', y='X2',ax=ax,c='r',s=s1+10)\n",
    "    df.loc[(df['Y']==1)&(df['area']==1)].plot.scatter(x='X1', y='X2',ax=ax,c='y',s=s1)\n",
    "    df.loc[(df['Y']==0)&(df['area']==1)].plot.scatter(x='X1', y='X2',ax=ax,c='b',s=s2)\n",
    "    df.loc[(df['Y']==1)&(df['area']==0)].plot.scatter(x='X1', y='X2',ax=ax,c='y',s=s2)\n",
    "\n",
    "_,ax = plt.subplots(1,2,figsize=(15,7))\n",
    "plot_contours(ax[0])\n",
    "plot_sample(ax[1],df)\n",
    "plt.savefig('boost_dist_model.png', dpi=150, bbox_inches='tight')"
   ]
  },
  {
   "cell_type": "code",
   "execution_count": null,
   "id": "e5462fbc",
   "metadata": {
    "id": "e5462fbc"
   },
   "outputs": [],
   "source": [
    "clf = GradientBoostingClassifier(n_estimators=1000, learning_rate=0.1, max_depth=1, random_state=0\n",
    "                                # ,loss='exponential'\n",
    "                                ).fit(df[['X1','X2']],df['Y'],sample_weight=df['weight'])"
   ]
  },
  {
   "cell_type": "code",
   "execution_count": null,
   "id": "d6a1bad3",
   "metadata": {
    "id": "d6a1bad3",
    "outputId": "e5f61c18-e942-4789-975a-6ee42e01400d"
   },
   "outputs": [
    {
     "data": {
      "text/plain": [
       "[array([[-4.77232082],\n",
       "        [-4.77232082],\n",
       "        [-4.77232082],\n",
       "        ...,\n",
       "        [-4.77232697],\n",
       "        [-4.77232697],\n",
       "        [-4.77232697]])]"
      ]
     },
     "execution_count": 52,
     "metadata": {},
     "output_type": "execute_result"
    }
   ],
   "source": [
    "list(itertools.islice(clf.staged_decision_function(df[['X1','X2']]),9999,10000))"
   ]
  },
  {
   "cell_type": "code",
   "execution_count": null,
   "id": "1e0c015b",
   "metadata": {
    "id": "1e0c015b",
    "outputId": "93020124-64ea-4ab8-c497-d9a83bf01116"
   },
   "outputs": [
    {
     "data": {
      "image/png": "[encoded data removed]",
      "text/plain": [
       "<Figure size 1080x504 with 2 Axes>"
      ]
     },
     "metadata": {
      "needs_background": "light"
     },
     "output_type": "display_data"
    }
   ],
   "source": [
    "def plot_contours(ax, clf=None, i=-1, d=1.1,N=201, **params):\n",
    "    xx, yy = np.meshgrid(np.linspace(-d, d, N),\n",
    "                         np.linspace(-d, d, N))\n",
    "    z =  np.vstack([xx.ravel(), yy.ravel()]).T\n",
    "    X = pd.DataFrame(z,columns=['X1','X2'])\n",
    "    if clf is None:\n",
    "        X['weight'] = (X['X1']*X['X1'] - X['X1']*X['X2'] + X['X2']*X['X2'] < 0.7**2).map(lambda x: 0.9 if x else 0.1)\n",
    "        Z = X['weight'].to_numpy().reshape(xx.shape)\n",
    "    else:\n",
    "        #Z = clf.predict(X)\n",
    "        #Z = list(itertools.islice(clf.staged_decision_function(X),i,i+1))[0]\n",
    "        #Z = list(itertools.islice(clf.staged_predict_proba(X),i,i+1))[0]\n",
    "        Z = clf.predict_proba(X)if i<0 else list(itertools.islice(clf.staged_predict_proba(X),i,i+1))[0]\n",
    "        #r = pd.DataFrame(Z)\n",
    "        #print(r[0].round(2).value_counts())\n",
    "        Z = Z[:,1].reshape(xx.shape)\n",
    "    out = ax.contourf(xx, yy, Z, levels=[0,0.05,0.12,0.3,0.5,0.88,0.95,1],**params)\n",
    "    ax.set_xlabel('X1')\n",
    "    ax.set_ylabel('X2')\n",
    "    return out\n",
    "\n",
    "_,ax = plt.subplots(1,2,figsize=(15,7))\n",
    "#plot_contours(ax)\n",
    "plot_contours(ax[0], clf,15)\n",
    "plot_contours(ax[1], clf,-1)#, colors=['red','black','blue'])\n",
    "plt.savefig('boost_dist_sln.png', dpi=150, bbox_inches='tight')"
   ]
  },
  {
   "cell_type": "code",
   "execution_count": null,
   "id": "3d027221",
   "metadata": {
    "id": "3d027221",
    "outputId": "81e55b02-f749-4556-f14f-1631af68a658"
   },
   "outputs": [
    {
     "data": {
      "image/png": "[encoded data removed]",
      "text/plain": [
       "<Figure size 1080x504 with 2 Axes>"
      ]
     },
     "metadata": {
      "needs_background": "light"
     },
     "output_type": "display_data"
    }
   ],
   "source": [
    "clf1 = GradientBoostingClassifier(n_estimators=1000, learning_rate=0.1, max_depth=2, random_state=0\n",
    "                                 ,loss='exponential'\n",
    "                                ).fit(df[['X1','X2']],df['Y'],sample_weight=df['weight'])\n",
    "\n",
    "_,ax = plt.subplots(1,2,figsize=(15,7))\n",
    "#plot_contours(ax)\n",
    "plot_contours(ax[0], clf1,15)\n",
    "plot_contours(ax[1], clf1,-1)#, colors=['red','black','blue'])\n",
    "plt.savefig('boost_dist_sln_deep.png', dpi=150, bbox_inches='tight')"
   ]
  },
  {
   "cell_type": "code",
   "execution_count": null,
   "id": "9e6782a2",
   "metadata": {
    "id": "9e6782a2",
    "outputId": "df3a1219-d1b4-4864-8fa2-a6d14839337c"
   },
   "outputs": [
    {
     "data": {
      "text/plain": [
       "0    650\n",
       "1    600\n",
       "Name: area, dtype: int64"
      ]
     },
     "execution_count": 146,
     "metadata": {},
     "output_type": "execute_result"
    }
   ],
   "source": [
    "df1 = make_grid_sample()    \n",
    "df1['area'] = (df1['X1'] < 0).astype(int)\n",
    "df1['weight'] = (df1['Y']==df1['area']).map(lambda x: 0.9 if x else 0.1)\n",
    "df1['area'].value_counts()"
   ]
  },
  {
   "cell_type": "code",
   "execution_count": null,
   "id": "91a3b9b3",
   "metadata": {
    "id": "91a3b9b3",
    "outputId": "7f6e1d4a-59e6-4452-c7ed-8061aaa08410"
   },
   "outputs": [
    {
     "data": {
      "text/plain": [
       "<matplotlib.contour.QuadContourSet at 0x2b1ef4491c0>"
      ]
     },
     "execution_count": 179,
     "metadata": {},
     "output_type": "execute_result"
    },
    {
     "data": {
      "image/png": "[encoded data removed]",
      "text/plain": [
       "<Figure size 1080x504 with 2 Axes>"
      ]
     },
     "metadata": {
      "needs_background": "light"
     },
     "output_type": "display_data"
    }
   ],
   "source": [
    "clf2 = GradientBoostingClassifier(n_estimators=1000, learning_rate=0.1, max_depth=1, random_state=0\n",
    "                                 ,loss='exponential'\n",
    "                                ).fit(df1[['X1','X2']],df1['Y'],sample_weight=df1['weight'])\n",
    "\n",
    "_,ax = plt.subplots(1,2,figsize=(15,7))\n",
    "#plot_contours(ax)\n",
    "plot_sample(ax[0],df1)\n",
    "plot_contours(ax[1], clf2,-1)"
   ]
  },
  {
   "cell_type": "code",
   "execution_count": null,
   "id": "daefb1d1",
   "metadata": {
    "id": "daefb1d1",
    "outputId": "460480fb-208c-4adf-e6a9-a135f792dbf6"
   },
   "outputs": [
    {
     "data": {
      "text/plain": [
       "array([ 2.19722458,  2.19722458,  2.19722458, ..., -2.19722458,\n",
       "       -2.19722458, -2.19722458])"
      ]
     },
     "execution_count": 157,
     "metadata": {},
     "output_type": "execute_result"
    }
   ],
   "source": [
    "clf2.decision_function(df1[['X1','X2']])"
   ]
  },
  {
   "cell_type": "code",
   "execution_count": null,
   "id": "0b78b1d8",
   "metadata": {
    "id": "0b78b1d8",
    "outputId": "d329832f-d4ca-4d76-dbf6-b66741ebef03"
   },
   "outputs": [
    {
     "data": {
      "text/plain": [
       "array([[0.1, 0.9],\n",
       "       [0.1, 0.9],\n",
       "       [0.1, 0.9],\n",
       "       ...,\n",
       "       [0.9, 0.1],\n",
       "       [0.9, 0.1],\n",
       "       [0.9, 0.1]])"
      ]
     },
     "execution_count": 158,
     "metadata": {},
     "output_type": "execute_result"
    }
   ],
   "source": [
    "clf2.predict_proba(df1[['X1','X2']])"
   ]
  },
  {
   "cell_type": "code",
   "execution_count": null,
   "id": "3c48ed83",
   "metadata": {
    "id": "3c48ed83",
    "outputId": "fafbe36d-70b5-4776-976e-b17e3d4ed0a4"
   },
   "outputs": [
    {
     "data": {
      "text/plain": [
       "array([0.9, 0.9, 0.9, ..., 0.1, 0.1, 0.1])"
      ]
     },
     "execution_count": 166,
     "metadata": {},
     "output_type": "execute_result"
    }
   ],
   "source": [
    "1/(1+np.exp(-clf2.decision_function(df1[['X1','X2']])))"
   ]
  },
  {
   "cell_type": "code",
   "execution_count": null,
   "id": "77076bc2",
   "metadata": {
    "id": "77076bc2",
    "outputId": "25066930-f205-498a-829b-a0a3be21af68"
   },
   "outputs": [
    {
     "data": {
      "text/plain": [
       "array([ 1.09861229,  1.09861229,  1.09861229, ..., -1.09861229,\n",
       "       -1.09861229, -1.09861229])"
      ]
     },
     "execution_count": 160,
     "metadata": {},
     "output_type": "execute_result"
    }
   ],
   "source": [
    "clf2.decision_function(df1[['X1','X2']])"
   ]
  },
  {
   "cell_type": "code",
   "execution_count": null,
   "id": "27296427",
   "metadata": {
    "id": "27296427",
    "outputId": "2930c223-c572-45ac-885a-ae663816576b"
   },
   "outputs": [
    {
     "data": {
      "text/plain": [
       "array([[0.1, 0.9],\n",
       "       [0.1, 0.9],\n",
       "       [0.1, 0.9],\n",
       "       ...,\n",
       "       [0.9, 0.1],\n",
       "       [0.9, 0.1],\n",
       "       [0.9, 0.1]])"
      ]
     },
     "execution_count": 161,
     "metadata": {},
     "output_type": "execute_result"
    }
   ],
   "source": [
    "clf2.predict_proba(df1[['X1','X2']])"
   ]
  },
  {
   "cell_type": "code",
   "execution_count": null,
   "id": "5fe2e2c9",
   "metadata": {
    "id": "5fe2e2c9",
    "outputId": "947acffc-1cf0-4c8d-b41d-9436045619cc"
   },
   "outputs": [
    {
     "data": {
      "text/plain": [
       "array([0.9, 0.9, 0.9, ..., 0.1, 0.1, 0.1])"
      ]
     },
     "execution_count": 163,
     "metadata": {},
     "output_type": "execute_result"
    }
   ],
   "source": [
    "1/(1+np.exp(-2*clf2.decision_function(df1[['X1','X2']])))"
   ]
  },
  {
   "cell_type": "code",
   "execution_count": null,
   "id": "195c4aff",
   "metadata": {
    "id": "195c4aff",
    "outputId": "fa830050-24ee-40fc-ce42-d8462a0410bd"
   },
   "outputs": [
    {
     "data": {
      "text/html": [
       "<div>\n",
       "<style scoped>\n",
       "    .dataframe tbody tr th:only-of-type {\n",
       "        vertical-align: middle;\n",
       "    }\n",
       "\n",
       "    .dataframe tbody tr th {\n",
       "        vertical-align: top;\n",
       "    }\n",
       "\n",
       "    .dataframe thead th {\n",
       "        text-align: right;\n",
       "    }\n",
       "</style>\n",
       "<table border=\"1\" class=\"dataframe\">\n",
       "  <thead>\n",
       "    <tr style=\"text-align: right;\">\n",
       "      <th></th>\n",
       "      <th>X1</th>\n",
       "      <th>X2</th>\n",
       "      <th>Y</th>\n",
       "      <th>area</th>\n",
       "      <th>weight</th>\n",
       "    </tr>\n",
       "  </thead>\n",
       "  <tbody>\n",
       "    <tr>\n",
       "      <th>0</th>\n",
       "      <td>-1.000000</td>\n",
       "      <td>-1.0</td>\n",
       "      <td>0</td>\n",
       "      <td>1</td>\n",
       "      <td>0.1</td>\n",
       "    </tr>\n",
       "    <tr>\n",
       "      <th>1</th>\n",
       "      <td>-0.916667</td>\n",
       "      <td>-1.0</td>\n",
       "      <td>0</td>\n",
       "      <td>1</td>\n",
       "      <td>0.1</td>\n",
       "    </tr>\n",
       "    <tr>\n",
       "      <th>2</th>\n",
       "      <td>-0.833333</td>\n",
       "      <td>-1.0</td>\n",
       "      <td>0</td>\n",
       "      <td>1</td>\n",
       "      <td>0.1</td>\n",
       "    </tr>\n",
       "    <tr>\n",
       "      <th>3</th>\n",
       "      <td>-0.750000</td>\n",
       "      <td>-1.0</td>\n",
       "      <td>0</td>\n",
       "      <td>1</td>\n",
       "      <td>0.1</td>\n",
       "    </tr>\n",
       "    <tr>\n",
       "      <th>4</th>\n",
       "      <td>-0.666667</td>\n",
       "      <td>-1.0</td>\n",
       "      <td>0</td>\n",
       "      <td>1</td>\n",
       "      <td>0.1</td>\n",
       "    </tr>\n",
       "    <tr>\n",
       "      <th>...</th>\n",
       "      <td>...</td>\n",
       "      <td>...</td>\n",
       "      <td>...</td>\n",
       "      <td>...</td>\n",
       "      <td>...</td>\n",
       "    </tr>\n",
       "    <tr>\n",
       "      <th>1245</th>\n",
       "      <td>0.666667</td>\n",
       "      <td>1.0</td>\n",
       "      <td>1</td>\n",
       "      <td>0</td>\n",
       "      <td>0.1</td>\n",
       "    </tr>\n",
       "    <tr>\n",
       "      <th>1246</th>\n",
       "      <td>0.750000</td>\n",
       "      <td>1.0</td>\n",
       "      <td>1</td>\n",
       "      <td>0</td>\n",
       "      <td>0.1</td>\n",
       "    </tr>\n",
       "    <tr>\n",
       "      <th>1247</th>\n",
       "      <td>0.833333</td>\n",
       "      <td>1.0</td>\n",
       "      <td>1</td>\n",
       "      <td>0</td>\n",
       "      <td>0.1</td>\n",
       "    </tr>\n",
       "    <tr>\n",
       "      <th>1248</th>\n",
       "      <td>0.916667</td>\n",
       "      <td>1.0</td>\n",
       "      <td>1</td>\n",
       "      <td>0</td>\n",
       "      <td>0.1</td>\n",
       "    </tr>\n",
       "    <tr>\n",
       "      <th>1249</th>\n",
       "      <td>1.000000</td>\n",
       "      <td>1.0</td>\n",
       "      <td>1</td>\n",
       "      <td>0</td>\n",
       "      <td>0.1</td>\n",
       "    </tr>\n",
       "  </tbody>\n",
       "</table>\n",
       "<p>1250 rows × 5 columns</p>\n",
       "</div>"
      ],
      "text/plain": [
       "            X1   X2  Y  area  weight\n",
       "0    -1.000000 -1.0  0     1     0.1\n",
       "1    -0.916667 -1.0  0     1     0.1\n",
       "2    -0.833333 -1.0  0     1     0.1\n",
       "3    -0.750000 -1.0  0     1     0.1\n",
       "4    -0.666667 -1.0  0     1     0.1\n",
       "...        ...  ... ..   ...     ...\n",
       "1245  0.666667  1.0  1     0     0.1\n",
       "1246  0.750000  1.0  1     0     0.1\n",
       "1247  0.833333  1.0  1     0     0.1\n",
       "1248  0.916667  1.0  1     0     0.1\n",
       "1249  1.000000  1.0  1     0     0.1\n",
       "\n",
       "[1250 rows x 5 columns]"
      ]
     },
     "execution_count": 173,
     "metadata": {},
     "output_type": "execute_result"
    }
   ],
   "source": [
    "df1"
   ]
  },
  {
   "cell_type": "code",
   "execution_count": null,
   "id": "e9aebcc9",
   "metadata": {
    "id": "e9aebcc9",
    "outputId": "71cf5378-beb0-4e2f-bd99-468ee9f375d4"
   },
   "outputs": [
    {
     "data": {
      "text/plain": [
       "1.8368639942423217e-15"
      ]
     },
     "execution_count": 175,
     "metadata": {},
     "output_type": "execute_result"
    }
   ],
   "source": [
    "(clf2.predict_proba(df1[['X1','X2']])[:,1] - (df1['weight']*df1['Y'] + (1-df1['weight'])*(1-df1['Y']))).abs().mean()"
   ]
  },
  {
   "cell_type": "code",
   "execution_count": null,
   "id": "9031c8cc",
   "metadata": {
    "id": "9031c8cc"
   },
   "outputs": [],
   "source": [
    "pa = np.array([(p[:,1] - (df1['weight']*df1['Y'] + (1-df1['weight'])*(1-df1['Y']))).abs().mean()\n",
    "          for p in clf2.staged_predict_proba(df1[['X1','X2']])])"
   ]
  },
  {
   "cell_type": "code",
   "execution_count": null,
   "id": "22b1d1ad",
   "metadata": {
    "id": "22b1d1ad"
   },
   "outputs": [],
   "source": [
    "pb = np.array([(p[:,1] - (df1['weight']*df1['Y'] + (1-df1['weight'])*(1-df1['Y']))).abs().mean()\n",
    "          for p in clf2.staged_predict_proba(df1[['X1','X2']])])"
   ]
  },
  {
   "cell_type": "code",
   "execution_count": null,
   "id": "bf53dab7",
   "metadata": {
    "id": "bf53dab7",
    "outputId": "de7ac58c-1b13-4f9b-c05e-f4633ef9b7ab"
   },
   "outputs": [
    {
     "data": {
      "text/plain": [
       "[<matplotlib.lines.Line2D at 0x2b1e5cf7310>]"
      ]
     },
     "execution_count": 186,
     "metadata": {},
     "output_type": "execute_result"
    },
    {
     "data": {
      "image/png": "[encoded data removed]",
      "text/plain": [
       "<Figure size 432x288 with 1 Axes>"
      ]
     },
     "metadata": {
      "needs_background": "light"
     },
     "output_type": "display_data"
    }
   ],
   "source": [
    "plt.plot(pa[:50])\n",
    "plt.plot(pb[:50])"
   ]
  },
  {
   "cell_type": "code",
   "execution_count": null,
   "id": "10810984",
   "metadata": {
    "id": "10810984"
   },
   "outputs": [],
   "source": [
    "pb = np.array([(p[:,1] - (df['weight']*df['Y'] + (1-df['weight'])*(1-df['Y']))).abs().mean()\n",
    "          for p in clf1.staged_predict_proba(df[['X1','X2']])])"
   ]
  },
  {
   "cell_type": "code",
   "execution_count": null,
   "id": "23e4221f",
   "metadata": {
    "id": "23e4221f"
   },
   "outputs": [],
   "source": [
    "pa = np.array([(p[:,1] - (df['weight']*df['Y'] + (1-df['weight'])*(1-df['Y']))).abs().mean()\n",
    "          for p in clf1.staged_predict_proba(df[['X1','X2']])])"
   ]
  },
  {
   "cell_type": "code",
   "execution_count": null,
   "id": "699f7d13",
   "metadata": {
    "id": "699f7d13",
    "outputId": "bfbf1290-b4d6-4870-8794-36bdfaff5fd7"
   },
   "outputs": [
    {
     "data": {
      "image/png": "[encoded data removed]",
      "text/plain": [
       "<Figure size 576x432 with 1 Axes>"
      ]
     },
     "metadata": {
      "needs_background": "light"
     },
     "output_type": "display_data"
    }
   ],
   "source": [
    "plt.figure(figsize=(8,6))\n",
    "plt.plot(pa)#[:250])\n",
    "plt.plot(pb)#[:250])\n",
    "plt.plot(pc)\n",
    "plt.grid()"
   ]
  },
  {
   "cell_type": "code",
   "execution_count": null,
   "id": "626f64bf",
   "metadata": {
    "id": "626f64bf"
   },
   "outputs": [],
   "source": [
    "from sklearn.ensemble import AdaBoostClassifier\n",
    "from sklearn.tree import DecisionTreeClassifier\n",
    "\n",
    "clf1 = AdaBoostClassifier(DecisionTreeClassifier(max_depth=2, random_state=0),\n",
    "                          n_estimators=1000, learning_rate=0.1, random_state=0\n",
    "                                # ,algorithm='SAMME'\n",
    "                                ).fit(df[['X1','X2']].to_numpy(),df['Y'].to_numpy(),sample_weight=df['weight'].to_numpy())\n",
    "\n",
    "pc = np.array([(p[:,0] - (df['weight']*df['Y'] + (1-df['weight'])*(1-df['Y']))).abs().mean()\n",
    "          for p in clf1.staged_predict_proba(df[['X1','X2']].to_numpy())])"
   ]
  },
  {
   "cell_type": "code",
   "execution_count": null,
   "id": "66cb62da",
   "metadata": {
    "id": "66cb62da",
    "outputId": "ffe5522b-33e6-46c9-8158-091f4d1155de"
   },
   "outputs": [
    {
     "name": "stderr",
     "output_type": "stream",
     "text": [
      "c:\\python38\\lib\\site-packages\\sklearn\\base.py:434: UserWarning: X has feature names, but AdaBoostClassifier was fitted without feature names\n",
      "  warnings.warn(\n"
     ]
    },
    {
     "data": {
      "text/plain": [
       "array([[0.50637595, 0.49362405],\n",
       "       [0.50637595, 0.49362405],\n",
       "       [0.50637595, 0.49362405],\n",
       "       ...,\n",
       "       [0.50649487, 0.49350513],\n",
       "       [0.50649487, 0.49350513],\n",
       "       [0.50649487, 0.49350513]])"
      ]
     },
     "execution_count": 232,
     "metadata": {},
     "output_type": "execute_result"
    }
   ],
   "source": [
    "clf1.predict_proba(df[['X1','X2']])"
   ]
  },
  {
   "cell_type": "code",
   "execution_count": null,
   "id": "72994456",
   "metadata": {
    "id": "72994456",
    "outputId": "9d0b3fa6-24d7-44ad-954e-a8d5dd0d2e97"
   },
   "outputs": [
    {
     "data": {
      "image/png": "[encoded data removed]",
      "text/plain": [
       "<Figure size 576x360 with 1 Axes>"
      ]
     },
     "metadata": {
      "needs_background": "light"
     },
     "output_type": "display_data"
    }
   ],
   "source": [
    "XX = np.linspace(-2,2,1001)\n",
    "plt.figure(figsize=(8,5))\n",
    "plt.plot(XX,(XX<0).astype(int),label='missclassification')\n",
    "plt.plot(XX,np.log(1+np.exp(-XX))/np.log(2),label='log loss')\n",
    "plt.plot(XX,np.exp(-XX),label='exp loss')\n",
    "plt.ylim((-0.1,3))\n",
    "plt.grid()\n",
    "plt.legend()\n",
    "plt.savefig('boost_losses.png', dpi=150, bbox_inches='tight')"
   ]
  }
 ],
 "metadata": {
  "colab": {
   "name": "boost_learn_demo.ipynb",
   "provenance": []
  },
  "kernelspec": {
   "display_name": "Python 3 (ipykernel)",
   "language": "python",
   "name": "python3"
  },
  "language_info": {
   "codemirror_mode": {
    "name": "ipython",
    "version": 3
   },
   "file_extension": ".py",
   "mimetype": "text/x-python",
   "name": "python",
   "nbconvert_exporter": "python",
   "pygments_lexer": "ipython3",
   "version": "3.11.5"
  }
 },
 "nbformat": 4,
 "nbformat_minor": 5
}
