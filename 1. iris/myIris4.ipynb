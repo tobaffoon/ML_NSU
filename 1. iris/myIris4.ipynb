{
 "cells": [
  {
   "cell_type": "code",
   "execution_count": 122,
   "metadata": {
    "colab": {
     "base_uri": "https://localhost:8080/",
     "height": 625
    },
    "executionInfo": {
     "elapsed": 839,
     "status": "ok",
     "timestamp": 1695626474327,
     "user": {
      "displayName": "Алексей Николаевич Мазяр",
      "userId": "06976925771430363522"
     },
     "user_tz": -420
    },
    "id": "YQJAFXcJu-OF",
    "outputId": "aa295ff3-e47b-4246-f350-1a94863f68aa"
   },
   "outputs": [],
   "source": [
    "import numpy as np\n",
    "import pandas as pd\n",
    "import matplotlib.pyplot as plt\n",
    "from sklearn import datasets\n",
    "import seaborn as sns1"
   ]
  },
  {
   "cell_type": "code",
   "execution_count": 123,
   "metadata": {},
   "outputs": [],
   "source": [
    "def make_meshgrid(x, y, h=.02):\n",
    "    d = 0.5\n",
    "    x_min, x_max = x.min() - d, x.max() + d\n",
    "    y_min, y_max = y.min() - d, y.max() + d\n",
    "    xx, yy = np.meshgrid(np.arange(x_min, x_max, h),\n",
    "                         np.arange(y_min, y_max, h))\n",
    "    return xx, yy"
   ]
  },
  {
   "cell_type": "code",
   "execution_count": 124,
   "metadata": {},
   "outputs": [],
   "source": [
    "def plot_contours(ax, func, x, y, **params):\n",
    "    xx, yy = make_meshgrid(x,y)\n",
    "    \n",
    "    # ravel - раскрыть многомерный массив в одномерный, c_ - сделать zip двух одномерных массиов для получения всех возможных координат точек \n",
    "    Z = func(np.c_[xx.ravel(), yy.ravel()]) # Получаем массив из значений в каждой точке. Его нужно преобразовать в 2мерный => reshape\n",
    "    Z = Z.reshape(xx.shape)\n",
    "    out = ax.contourf(xx, yy, Z, **params)\n",
    "    return out"
   ]
  },
  {
   "cell_type": "code",
   "execution_count": 125,
   "metadata": {},
   "outputs": [],
   "source": [
    "iris = datasets.load_iris()\n",
    "values = iris['data'][iris.target!=0][:, :2] # first two columns\n",
    "targets = iris['target'][iris.target!=0]"
   ]
  },
  {
   "cell_type": "markdown",
   "metadata": {},
   "source": [
    "Выделить необходимые данные\n",
    "1. for x in df_grouped.groups - для каждого класса\n",
    "2. df_grouped.get_group(x).drop(\"name\", axis=1) - отброся имя класса (axis=1 значит колонка)"
   ]
  },
  {
   "cell_type": "code",
   "execution_count": 126,
   "metadata": {
    "colab": {
     "base_uri": "https://localhost:8080/",
     "height": 206
    },
    "executionInfo": {
     "elapsed": 290,
     "status": "ok",
     "timestamp": 1695626876989,
     "user": {
      "displayName": "Алексей Николаевич Мазяр",
      "userId": "06976925771430363522"
     },
     "user_tz": -420
    },
    "id": "jBy5UGphEqpV",
    "outputId": "f79216ae-e586-4543-9b2b-2823a3cb9277"
   },
   "outputs": [],
   "source": [
    "df = pd.DataFrame(values, columns = iris['feature_names'][:2])\n",
    "# df['target'] = targets\n",
    "df['name'] = np.array(iris['target_names'][x] for x in targets)\n",
    "df_grouped = df.groupby('name')\n",
    "versicolor_df, virginica_df = [df_grouped.get_group(x).drop(\"name\", axis=1) for x in df_grouped.groups]"
   ]
  },
  {
   "cell_type": "markdown",
   "metadata": {},
   "source": [
    "Вычислем векторы средних значений"
   ]
  },
  {
   "cell_type": "code",
   "execution_count": 127,
   "metadata": {},
   "outputs": [],
   "source": [
    "versicolor_mean, virginica_mean = versicolor_df.agg(['mean']).to_numpy(), virginica_df.agg(['mean']).to_numpy()\n",
    "\n",
    "#versicolor_mean, virginica_mean"
   ]
  },
  {
   "cell_type": "markdown",
   "metadata": {},
   "source": [
    "Получаем ковариационные матрицы для обоих классов и сделать необходимые преобразования"
   ]
  },
  {
   "cell_type": "code",
   "execution_count": 128,
   "metadata": {
    "colab": {
     "base_uri": "https://localhost:8080/"
    },
    "executionInfo": {
     "elapsed": 271,
     "status": "ok",
     "timestamp": 1695627003616,
     "user": {
      "displayName": "Алексей Николаевич Мазяр",
      "userId": "06976925771430363522"
     },
     "user_tz": -420
    },
    "id": "JFQVEpStv_uA",
    "outputId": "748a2e2f-82e1-421d-c052-e235de8e8ae7",
    "scrolled": true
   },
   "outputs": [],
   "source": [
    "versicolor_matrix, virginica_matrix = versicolor_df.cov().to_numpy(), virginica_df.cov().to_numpy()\n",
    "\n",
    "versicolor_matrix_inv = np.linalg.inv(versicolor_matrix)\n",
    "virginica_matrix_inv = np.linalg.inv(virginica_matrix)\n",
    "\n",
    "versicolor_det = np.linalg.det(versicolor_matrix)\n",
    "virginica_det = np.linalg.det(virginica_matrix)\n",
    "\n",
    "# np.matmul(versicolor_matrix_inv, versicolor_matrix)"
   ]
  },
  {
   "cell_type": "markdown",
   "metadata": {},
   "source": [
    "Задаём разделяющую функцию\n",
    "\n",
    "* Versicolor - 1-ый класс\n",
    "* Virginica - 2-ой класс"
   ]
  },
  {
   "cell_type": "code",
   "execution_count": 138,
   "metadata": {
    "scrolled": true
   },
   "outputs": [],
   "source": [
    "P1 = len(versicolor_df.index) / len(df.index) # оценка вероятности того, что случайный цветок - Versicolor\n",
    "P2 = len(virginica_df.index) / len(df.index)\n",
    "\n",
    "A = virginica_matrix_inv - versicolor_matrix_inv\n",
    "\n",
    "versicolor_mul = np.matmul(versicolor_mean, versicolor_matrix_inv)\n",
    "virginica_mul = np.matmul(virginica_mean, virginica_matrix_inv)\n",
    "b = 2 * versicolor_mul - 2 * virginica_mul\n",
    "\n",
    "c = np.matmul(virginica_mul, np.transpose(virginica_mean)) - np.matmul(versicolor_mul, np.transpose(versicolor_mean)) + np.log(virginica_det) - np.log(versicolor_det) + 2 * np.log(P1) - 2 * np.log(P2)\n",
    "l = lambda x: (np.matmul(np.matmul(x, A), np.transpose(x)) + np.matmul(b, np.transpose(x)) + c) * 1/2\n",
    "\n",
    "f = lambda x: 1 if l(x) >= 0 else 2\n",
    "\n",
    "# print(np.array(list(map(f, values))))"
   ]
  },
  {
   "cell_type": "code",
   "execution_count": 140,
   "metadata": {},
   "outputs": [
    {
     "ename": "NameError",
     "evalue": "name 'title' is not defined",
     "output_type": "error",
     "traceback": [
      "\u001b[1;31m---------------------------------------------------------------------------\u001b[0m",
      "\u001b[1;31mNameError\u001b[0m                                 Traceback (most recent call last)",
      "Cell \u001b[1;32mIn[140], line 14\u001b[0m\n\u001b[0;32m     11\u001b[0m ax\u001b[38;5;241m.\u001b[39mset_ylabel(\u001b[38;5;124m'\u001b[39m\u001b[38;5;124mSepal width\u001b[39m\u001b[38;5;124m'\u001b[39m)\n\u001b[0;32m     12\u001b[0m \u001b[38;5;66;03m#ax.set_xticks(())\u001b[39;00m\n\u001b[0;32m     13\u001b[0m \u001b[38;5;66;03m#ax.set_yticks(())\u001b[39;00m\n\u001b[1;32m---> 14\u001b[0m ax\u001b[38;5;241m.\u001b[39mset_title(title)\n\u001b[0;32m     16\u001b[0m plt\u001b[38;5;241m.\u001b[39mshow()\n",
      "\u001b[1;31mNameError\u001b[0m: name 'title' is not defined"
     ]
    },
    {
     "data": {
      "image/png": "[encoded data removed]",
      "text/plain": [
       "<Figure size 700x700 with 1 Axes>"
      ]
     },
     "metadata": {},
     "output_type": "display_data"
    }
   ],
   "source": [
    "# Set-up 1x1 grid for plotting.\n",
    "fig, ax = plt.subplots(1, 1, figsize=(7,7))\n",
    "\n",
    "sepal_lengths = values[:, 0]\n",
    "sepal_widths = values[:, 1]\n",
    "\n",
    "plot_contours(ax, lambda vals: np.array(list(map(f,vals))), sepal_lengths, sepal_widths, cmap=plt.cm.coolwarm, alpha=0.8)\n",
    "\n",
    "ax.scatter(sepal_lengths, sepal_widths, c=targets, cmap=plt.cm.coolwarm, s=20, edgecolors='k')\n",
    "ax.set_xlabel('Sepal length')\n",
    "ax.set_ylabel('Sepal width')\n",
    "#ax.set_xticks(())\n",
    "#ax.set_yticks(())\n",
    "ax.set_title(\"My \")\n",
    "\n",
    "plt.show()"
   ]
  },
  {
   "cell_type": "code",
   "execution_count": null,
   "metadata": {},
   "outputs": [],
   "source": []
  }
 ],
 "metadata": {
  "colab": {
   "authorship_tag": "ABX9TyNkneLlg5rDbIre0fEQE1rz",
   "provenance": []
  },
  "kernelspec": {
   "display_name": "Python 3 (ipykernel)",
   "language": "python",
   "name": "python3"
  },
  "language_info": {
   "codemirror_mode": {
    "name": "ipython",
    "version": 3
   },
   "file_extension": ".py",
   "mimetype": "text/x-python",
   "name": "python",
   "nbconvert_exporter": "python",
   "pygments_lexer": "ipython3",
   "version": "3.11.5"
  }
 },
 "nbformat": 4,
 "nbformat_minor": 1
}
